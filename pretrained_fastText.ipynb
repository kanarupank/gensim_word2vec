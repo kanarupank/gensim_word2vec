{
 "cells": [
  {
   "cell_type": "code",
   "execution_count": 2,
   "metadata": {},
   "outputs": [],
   "source": [
    "import warnings\n",
    "import gensim\n",
    "warnings.filterwarnings(\"ignore\")\n",
    "import fasttext\n",
    "model = gensim.models.KeyedVectors.load_word2vec_format('cc.ta.300.vec.gz')"
   ]
  },
  {
   "cell_type": "code",
   "execution_count": 15,
   "metadata": {},
   "outputs": [
    {
     "data": {
      "text/plain": [
       "[('விதேசிய', 0.732797384262085),\n",
       " ('தேசிய்', 0.719801664352417),\n",
       " ('சர்வதேசிய', 0.7093359231948853),\n",
       " ('தேசியசபை', 0.7031750082969666),\n",
       " ('இந்தியதேசிய', 0.6988328099250793),\n",
       " ('தேசியஇன', 0.6790086030960083),\n",
       " ('தேசியவனப்', 0.6737233400344849),\n",
       " ('தேசியத்துக்கான', 0.6714316606521606),\n",
       " ('தேசியஇனப்', 0.6710374355316162),\n",
       " ('இவர்இந்தியதேசிய', 0.6694144010543823)]"
      ]
     },
     "execution_count": 15,
     "metadata": {},
     "output_type": "execute_result"
    }
   ],
   "source": [
    "model.most_similar(\"தேசிய\")"
   ]
  },
  {
   "cell_type": "code",
   "execution_count": 16,
   "metadata": {},
   "outputs": [
    {
     "data": {
      "text/plain": [
       "[('செயலாளர்94867', 0.8340173959732056),\n",
       " ('செயலாளர', 0.8209944367408752),\n",
       " ('செயலாளர்ராக', 0.8163422346115112),\n",
       " ('செயலாளரே', 0.815626859664917),\n",
       " ('செயலர்', 0.8138994574546814),\n",
       " ('செயலாளார்', 0.8126195073127747),\n",
       " ('செயலாளர்நெசவாளர்', 0.8103241920471191),\n",
       " ('பொதுசெயலாளர்', 0.8094879388809204),\n",
       " ('உபசெயலாளர்', 0.804190456867218),\n",
       " ('செயலாளரது', 0.801895260810852)]"
      ]
     },
     "execution_count": 16,
     "metadata": {},
     "output_type": "execute_result"
    }
   ],
   "source": [
    "model.most_similar(\"செயலாளர்\")"
   ]
  },
  {
   "cell_type": "code",
   "execution_count": 17,
   "metadata": {},
   "outputs": [
    {
     "data": {
      "text/plain": [
       "[('மொழியூதேய', 0.8036419749259949),\n",
       " ('மொழி1', 0.7893372774124146),\n",
       " ('மொழினா', 0.7785999178886414),\n",
       " ('மொழியல்', 0.7740311026573181),\n",
       " ('மொழினு', 0.7722692489624023),\n",
       " ('மொழி்', 0.7721619606018066),\n",
       " ('மொழியழகு', 0.7644560933113098),\n",
       " ('மொழி:عبادی', 0.7621998190879822),\n",
       " ('மொழியீறு', 0.760511040687561),\n",
       " ('மொழியக', 0.7591518759727478)]"
      ]
     },
     "execution_count": 17,
     "metadata": {},
     "output_type": "execute_result"
    }
   ],
   "source": [
    "model.most_similar(\"மொழி\")"
   ]
  },
  {
   "cell_type": "code",
   "execution_count": 18,
   "metadata": {},
   "outputs": [
    {
     "data": {
      "text/plain": [
       "[('அல்லது2', 0.6909475326538086),\n",
       " ('அல்லதுb', 0.6644919514656067),\n",
       " ('அல்லதுUSB', 0.640975832939148),\n",
       " ('அல்லதுr', 0.6391943693161011),\n",
       " ('அல்லது1', 0.6373704671859741),\n",
       " ('அல்லது3', 0.6368671655654907),\n",
       " (\"நோஹ்'அல்லது\", 0.6219230890274048),\n",
       " ('அல்லது10', 0.6174979209899902),\n",
       " ('அல்லதுa', 0.6172045469284058),\n",
       " ('3அல்லது', 0.6105314493179321)]"
      ]
     },
     "execution_count": 18,
     "metadata": {},
     "output_type": "execute_result"
    }
   ],
   "source": [
    "model.most_similar(\"அல்லது\")"
   ]
  },
  {
   "cell_type": "code",
   "execution_count": 19,
   "metadata": {},
   "outputs": [
    {
     "data": {
      "text/plain": [
       "[('அவர்அவர்', 0.8184546828269958),\n",
       " ('அவர்.அவர்', 0.7797150611877441),\n",
       " ('அவரும்அவர்', 0.7320874333381653),\n",
       " ('நான்.அவர்', 0.7179255485534668),\n",
       " ('அவர்ள்', 0.7028145790100098),\n",
       " ('அப்பா.அவர்', 0.6998632550239563),\n",
       " ('மதி.அவர்', 0.6973386406898499),\n",
       " ('Sஅவர்', 0.6845723986625671),\n",
       " ('அவர்றை', 0.683164656162262),\n",
       " ('கூட.அவர்', 0.6831246018409729)]"
      ]
     },
     "execution_count": 19,
     "metadata": {},
     "output_type": "execute_result"
    }
   ],
   "source": [
    "model.most_similar(\"அவர்\")"
   ]
  },
  {
   "cell_type": "code",
   "execution_count": 20,
   "metadata": {},
   "outputs": [
    {
     "data": {
      "text/plain": [
       "[('கொள்கைளான', 0.851038932800293),\n",
       " (\"கொள்கை'யை\", 0.8469154834747314),\n",
       " ('கொள்கைனு', 0.836020290851593),\n",
       " ('கொள்கைதனை', 0.8283647894859314),\n",
       " ('கொள்கைள்', 0.822209358215332),\n",
       " ('கொள்கைபடி', 0.8128198981285095),\n",
       " ('கொள்கைகான', 0.7996989488601685),\n",
       " ('கொள்கைகயை', 0.7986493110656738),\n",
       " ('கொள்கைஒரே', 0.7873652577400208),\n",
       " ('கொள்கைவழி', 0.7868858575820923)]"
      ]
     },
     "execution_count": 20,
     "metadata": {},
     "output_type": "execute_result"
    }
   ],
   "source": [
    "model.most_similar(\"கொள்கை\")"
   ]
  },
  {
   "cell_type": "code",
   "execution_count": 21,
   "metadata": {},
   "outputs": [
    {
     "data": {
      "text/plain": [
       "[('உத்தியோகத்தர்ளும்', 0.8331044316291809),\n",
       " ('உத்தியோகத்தரான', 0.8321847915649414),\n",
       " ('உத்தியோகத்தர்கள்', 0.8212742805480957),\n",
       " ('உத்தியோகத்தரும்', 0.8024497628211975),\n",
       " ('உத்தியோகத்தர்களே', 0.7857359647750854),\n",
       " ('உத்தியோகத்தர்கள்பணிப்பாளர்', 0.7785269021987915),\n",
       " ('உத்தியோகத்தரை', 0.7729894518852234),\n",
       " ('உத்தியோகத்தர்களின்', 0.7696980237960815),\n",
       " ('உத்தியோகத்தர்கள', 0.7586713433265686),\n",
       " ('உத்தியோகத்தர்களது', 0.757839560508728)]"
      ]
     },
     "execution_count": 21,
     "metadata": {},
     "output_type": "execute_result"
    }
   ],
   "source": [
    "model.most_similar(\"உத்தியோகத்தர்\")"
   ]
  },
  {
   "cell_type": "code",
   "execution_count": 22,
   "metadata": {},
   "outputs": [
    {
     "data": {
      "text/plain": [
       "[('மேல்கீழ்', 0.754127025604248),\n",
       " ('கீழ்1', 0.7259477376937866),\n",
       " ('கீழ்ழ', 0.6985626220703125),\n",
       " ('மேல்', 0.6873761415481567),\n",
       " ('19கீழ்', 0.6726789474487305),\n",
       " ('கீழ்ழிதழ்தகள்', 0.6595492959022522),\n",
       " ('கீழ்முன்', 0.6467732191085815),\n",
       " ('கீழ்பாகத்தில்', 0.6404960751533508),\n",
       " ('கீழ்பகுதியில்', 0.6397489905357361),\n",
       " ('நிலகீழ்', 0.6372180581092834)]"
      ]
     },
     "execution_count": 22,
     "metadata": {},
     "output_type": "execute_result"
    }
   ],
   "source": [
    "model.most_similar(\"கீழ்\")"
   ]
  },
  {
   "cell_type": "code",
   "execution_count": 23,
   "metadata": {},
   "outputs": [
    {
     "data": {
      "text/plain": [
       "[('பிரிவுஅரச', 0.8215209245681763),\n",
       " ('பிரிவுஅல்', 0.8183536529541016),\n",
       " ('பிரிவு3', 0.8087928891181946),\n",
       " ('பிரிவு1', 0.8080493807792664),\n",
       " ('பிரிவு28', 0.8067495822906494),\n",
       " ('பிரிவுஊடக', 0.7919430732727051),\n",
       " ('பிரிவுவை', 0.7803276181221008),\n",
       " ('பிரிவுதகவல்', 0.7744727730751038),\n",
       " ('பிரிவுன்', 0.7689016461372375),\n",
       " ('பிரிவுகல்', 0.7578104138374329)]"
      ]
     },
     "execution_count": 23,
     "metadata": {},
     "output_type": "execute_result"
    }
   ],
   "source": [
    "model.most_similar(\"பிரிவு\")"
   ]
  },
  {
   "cell_type": "code",
   "execution_count": 24,
   "metadata": {},
   "outputs": [
    {
     "data": {
      "text/plain": [
       "[('ம்திகதி', 0.865955114364624),\n",
       " ('திகதிவரை', 0.8379010558128357),\n",
       " ('ஆம்திகதி', 0.8377079367637634),\n",
       " ('15ம்திகதி', 0.8317453265190125),\n",
       " ('8ந்திகதி', 0.8312143683433533),\n",
       " ('திகதிய', 0.825961172580719),\n",
       " ('ந்திகதி', 0.8214776515960693),\n",
       " ('திகதியே', 0.8208354711532593),\n",
       " ('திகதிமுதல்', 0.8053696751594543),\n",
       " ('திகதியன்று', 0.7998874187469482)]"
      ]
     },
     "execution_count": 24,
     "metadata": {},
     "output_type": "execute_result"
    }
   ],
   "source": [
    "model.most_similar(\"திகதி\")"
   ]
  },
  {
   "cell_type": "code",
   "execution_count": 14,
   "metadata": {},
   "outputs": [
    {
     "ename": "MemoryError",
     "evalue": "cannot allocate array memory",
     "output_type": "error",
     "traceback": [
      "\u001b[1;31m---------------------------------------------------------------------------\u001b[0m",
      "\u001b[1;31mMemoryError\u001b[0m                               Traceback (most recent call last)",
      "\u001b[1;32m<ipython-input-14-6e2686827180>\u001b[0m in \u001b[0;36m<module>\u001b[1;34m\u001b[0m\n\u001b[0;32m      1\u001b[0m \u001b[1;31m#Tamil(bin+text version) similarity check\u001b[0m\u001b[1;33m\u001b[0m\u001b[1;33m\u001b[0m\u001b[1;33m\u001b[0m\u001b[0m\n\u001b[1;32m----> 2\u001b[1;33m \u001b[0mmodel\u001b[0m \u001b[1;33m=\u001b[0m \u001b[0mgensim\u001b[0m\u001b[1;33m.\u001b[0m\u001b[0mmodels\u001b[0m\u001b[1;33m.\u001b[0m\u001b[0mfasttext\u001b[0m\u001b[1;33m.\u001b[0m\u001b[0mload_facebook_vectors\u001b[0m\u001b[1;33m(\u001b[0m\u001b[1;34m'cc.ta.300.bin.gz'\u001b[0m\u001b[1;33m)\u001b[0m\u001b[1;33m\u001b[0m\u001b[1;33m\u001b[0m\u001b[0m\n\u001b[0m",
      "\u001b[1;32mA:\\ProgramData\\Anaconda3\\lib\\site-packages\\gensim\\models\\fasttext.py\u001b[0m in \u001b[0;36mload_facebook_vectors\u001b[1;34m(path, encoding)\u001b[0m\n\u001b[0;32m   1304\u001b[0m \u001b[1;33m\u001b[0m\u001b[0m\n\u001b[0;32m   1305\u001b[0m     \"\"\"\n\u001b[1;32m-> 1306\u001b[1;33m     \u001b[0mmodel_wrapper\u001b[0m \u001b[1;33m=\u001b[0m \u001b[0m_load_fasttext_format\u001b[0m\u001b[1;33m(\u001b[0m\u001b[0mpath\u001b[0m\u001b[1;33m,\u001b[0m \u001b[0mencoding\u001b[0m\u001b[1;33m=\u001b[0m\u001b[0mencoding\u001b[0m\u001b[1;33m,\u001b[0m \u001b[0mfull_model\u001b[0m\u001b[1;33m=\u001b[0m\u001b[1;32mFalse\u001b[0m\u001b[1;33m)\u001b[0m\u001b[1;33m\u001b[0m\u001b[1;33m\u001b[0m\u001b[0m\n\u001b[0m\u001b[0;32m   1307\u001b[0m     \u001b[1;32mreturn\u001b[0m \u001b[0mmodel_wrapper\u001b[0m\u001b[1;33m.\u001b[0m\u001b[0mwv\u001b[0m\u001b[1;33m\u001b[0m\u001b[1;33m\u001b[0m\u001b[0m\n\u001b[0;32m   1308\u001b[0m \u001b[1;33m\u001b[0m\u001b[0m\n",
      "\u001b[1;32mA:\\ProgramData\\Anaconda3\\lib\\site-packages\\gensim\\models\\fasttext.py\u001b[0m in \u001b[0;36m_load_fasttext_format\u001b[1;34m(model_file, encoding, full_model)\u001b[0m\n\u001b[0;32m   1328\u001b[0m     \"\"\"\n\u001b[0;32m   1329\u001b[0m     \u001b[1;32mwith\u001b[0m \u001b[0mutils\u001b[0m\u001b[1;33m.\u001b[0m\u001b[0mopen\u001b[0m\u001b[1;33m(\u001b[0m\u001b[0mmodel_file\u001b[0m\u001b[1;33m,\u001b[0m \u001b[1;34m'rb'\u001b[0m\u001b[1;33m)\u001b[0m \u001b[1;32mas\u001b[0m \u001b[0mfin\u001b[0m\u001b[1;33m:\u001b[0m\u001b[1;33m\u001b[0m\u001b[1;33m\u001b[0m\u001b[0m\n\u001b[1;32m-> 1330\u001b[1;33m         \u001b[0mm\u001b[0m \u001b[1;33m=\u001b[0m \u001b[0mgensim\u001b[0m\u001b[1;33m.\u001b[0m\u001b[0mmodels\u001b[0m\u001b[1;33m.\u001b[0m\u001b[0m_fasttext_bin\u001b[0m\u001b[1;33m.\u001b[0m\u001b[0mload\u001b[0m\u001b[1;33m(\u001b[0m\u001b[0mfin\u001b[0m\u001b[1;33m,\u001b[0m \u001b[0mencoding\u001b[0m\u001b[1;33m=\u001b[0m\u001b[0mencoding\u001b[0m\u001b[1;33m,\u001b[0m \u001b[0mfull_model\u001b[0m\u001b[1;33m=\u001b[0m\u001b[0mfull_model\u001b[0m\u001b[1;33m)\u001b[0m\u001b[1;33m\u001b[0m\u001b[1;33m\u001b[0m\u001b[0m\n\u001b[0m\u001b[0;32m   1331\u001b[0m \u001b[1;33m\u001b[0m\u001b[0m\n\u001b[0;32m   1332\u001b[0m     model = FastText(\n",
      "\u001b[1;32mA:\\ProgramData\\Anaconda3\\lib\\site-packages\\gensim\\models\\_fasttext_bin.py\u001b[0m in \u001b[0;36mload\u001b[1;34m(fin, encoding, full_model)\u001b[0m\n\u001b[0;32m    322\u001b[0m     \u001b[0mmodel\u001b[0m\u001b[1;33m.\u001b[0m\u001b[0mupdate\u001b[0m\u001b[1;33m(\u001b[0m\u001b[0mraw_vocab\u001b[0m\u001b[1;33m=\u001b[0m\u001b[0mraw_vocab\u001b[0m\u001b[1;33m,\u001b[0m \u001b[0mvocab_size\u001b[0m\u001b[1;33m=\u001b[0m\u001b[0mvocab_size\u001b[0m\u001b[1;33m,\u001b[0m \u001b[0mnwords\u001b[0m\u001b[1;33m=\u001b[0m\u001b[0mnwords\u001b[0m\u001b[1;33m)\u001b[0m\u001b[1;33m\u001b[0m\u001b[1;33m\u001b[0m\u001b[0m\n\u001b[0;32m    323\u001b[0m \u001b[1;33m\u001b[0m\u001b[0m\n\u001b[1;32m--> 324\u001b[1;33m     \u001b[0mvectors_ngrams\u001b[0m \u001b[1;33m=\u001b[0m \u001b[0m_load_matrix\u001b[0m\u001b[1;33m(\u001b[0m\u001b[0mfin\u001b[0m\u001b[1;33m,\u001b[0m \u001b[0mnew_format\u001b[0m\u001b[1;33m=\u001b[0m\u001b[0mnew_format\u001b[0m\u001b[1;33m)\u001b[0m\u001b[1;33m\u001b[0m\u001b[1;33m\u001b[0m\u001b[0m\n\u001b[0m\u001b[0;32m    325\u001b[0m \u001b[1;33m\u001b[0m\u001b[0m\n\u001b[0;32m    326\u001b[0m     \u001b[1;32mif\u001b[0m \u001b[1;32mnot\u001b[0m \u001b[0mfull_model\u001b[0m\u001b[1;33m:\u001b[0m\u001b[1;33m\u001b[0m\u001b[1;33m\u001b[0m\u001b[0m\n",
      "\u001b[1;32mA:\\ProgramData\\Anaconda3\\lib\\site-packages\\gensim\\models\\_fasttext_bin.py\u001b[0m in \u001b[0;36m_load_matrix\u001b[1;34m(fin, new_format)\u001b[0m\n\u001b[0;32m    255\u001b[0m             \u001b[1;34m'Consider decompressing your model file for a faster load. '\u001b[0m\u001b[1;33m\u001b[0m\u001b[1;33m\u001b[0m\u001b[0m\n\u001b[0;32m    256\u001b[0m         )\n\u001b[1;32m--> 257\u001b[1;33m         \u001b[0mmatrix\u001b[0m \u001b[1;33m=\u001b[0m \u001b[0m_fromfile\u001b[0m\u001b[1;33m(\u001b[0m\u001b[0mfin\u001b[0m\u001b[1;33m,\u001b[0m \u001b[0m_FLOAT_DTYPE\u001b[0m\u001b[1;33m,\u001b[0m \u001b[0mcount\u001b[0m\u001b[1;33m)\u001b[0m\u001b[1;33m\u001b[0m\u001b[1;33m\u001b[0m\u001b[0m\n\u001b[0m\u001b[0;32m    258\u001b[0m     \u001b[1;32melse\u001b[0m\u001b[1;33m:\u001b[0m\u001b[1;33m\u001b[0m\u001b[1;33m\u001b[0m\u001b[0m\n\u001b[0;32m    259\u001b[0m         \u001b[0mmatrix\u001b[0m \u001b[1;33m=\u001b[0m \u001b[0mnp\u001b[0m\u001b[1;33m.\u001b[0m\u001b[0mfromfile\u001b[0m\u001b[1;33m(\u001b[0m\u001b[0mfin\u001b[0m\u001b[1;33m,\u001b[0m \u001b[0m_FLOAT_DTYPE\u001b[0m\u001b[1;33m,\u001b[0m \u001b[0mcount\u001b[0m\u001b[1;33m)\u001b[0m\u001b[1;33m\u001b[0m\u001b[1;33m\u001b[0m\u001b[0m\n",
      "\u001b[1;32mA:\\ProgramData\\Anaconda3\\lib\\site-packages\\gensim\\models\\_fasttext_bin.py\u001b[0m in \u001b[0;36m_fromfile\u001b[1;34m(fin, dtype, count)\u001b[0m\n\u001b[0;32m    286\u001b[0m \u001b[1;32mdef\u001b[0m \u001b[0m_fromfile\u001b[0m\u001b[1;33m(\u001b[0m\u001b[0mfin\u001b[0m\u001b[1;33m,\u001b[0m \u001b[0mdtype\u001b[0m\u001b[1;33m,\u001b[0m \u001b[0mcount\u001b[0m\u001b[1;33m)\u001b[0m\u001b[1;33m:\u001b[0m\u001b[1;33m\u001b[0m\u001b[1;33m\u001b[0m\u001b[0m\n\u001b[0;32m    287\u001b[0m     \u001b[1;34m\"\"\"Reimplementation of numpy.fromfile.\"\"\"\u001b[0m\u001b[1;33m\u001b[0m\u001b[1;33m\u001b[0m\u001b[0m\n\u001b[1;32m--> 288\u001b[1;33m     \u001b[1;32mreturn\u001b[0m \u001b[0mnp\u001b[0m\u001b[1;33m.\u001b[0m\u001b[0mfromiter\u001b[0m\u001b[1;33m(\u001b[0m\u001b[0m_batched_generator\u001b[0m\u001b[1;33m(\u001b[0m\u001b[0mfin\u001b[0m\u001b[1;33m,\u001b[0m \u001b[0mcount\u001b[0m\u001b[1;33m)\u001b[0m\u001b[1;33m,\u001b[0m \u001b[0mdtype\u001b[0m\u001b[1;33m=\u001b[0m\u001b[0mdtype\u001b[0m\u001b[1;33m)\u001b[0m\u001b[1;33m\u001b[0m\u001b[1;33m\u001b[0m\u001b[0m\n\u001b[0m\u001b[0;32m    289\u001b[0m \u001b[1;33m\u001b[0m\u001b[0m\n\u001b[0;32m    290\u001b[0m \u001b[1;33m\u001b[0m\u001b[0m\n",
      "\u001b[1;31mMemoryError\u001b[0m: cannot allocate array memory"
     ]
    }
   ],
   "source": [
    "#Tamil(bin+text version) similarity check\n",
    "model = gensim.models.fasttext.load_facebook_vectors('cc.ta.300.bin.gz')"
   ]
  }
 ],
 "metadata": {
  "kernelspec": {
   "display_name": "Python 3",
   "language": "python",
   "name": "python3"
  },
  "language_info": {
   "codemirror_mode": {
    "name": "ipython",
    "version": 3
   },
   "file_extension": ".py",
   "mimetype": "text/x-python",
   "name": "python",
   "nbconvert_exporter": "python",
   "pygments_lexer": "ipython3",
   "version": "3.7.4"
  }
 },
 "nbformat": 4,
 "nbformat_minor": 4
}
